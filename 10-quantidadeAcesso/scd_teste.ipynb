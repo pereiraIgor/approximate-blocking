{
 "cells": [
  {
   "cell_type": "code",
   "execution_count": 1,
   "id": "8f62312b",
   "metadata": {},
   "outputs": [],
   "source": [
    "import pandas as pd\n",
    "import time\n",
    "import random\n",
    "import math\n",
    "import mmh3\n",
    "\n",
    "def str_to_MinHash(str1, q, seed=0):\n",
    "    return min([mmh3.hash(str1[i:i + q], seed) for i in range(len(str1) - q + 1)])\n",
    "\n",
    "def frequent2(temp, L, t):\n",
    "    return {k: v for (k, v) in temp.items() if v/L >= t}"
   ]
  },
  {
   "cell_type": "code",
   "execution_count": 3,
   "id": "ef9308e0",
   "metadata": {},
   "outputs": [],
   "source": [
    "def matching():\n",
    "    global tp, fp, pairsNo, L1, q\n",
    "    for index2 in range(nbS, nbS + offsetB): \n",
    "        if index2 > len(df2) - 1:\n",
    "            return True\n",
    "\n",
    "        rr = df2.iloc[index2, 0:5]\n",
    "        idScholar = rr[\"id\"]\n",
    "        title = rr[\"title\"]\n",
    "        authors = rr[\"authors\"]\n",
    "        srec = title + \" \" + authors\n",
    "\n",
    "        temp = dict()\n",
    "        indices = [random.randrange(0, L) for i in range(L1)]\n",
    "        matchingPairs = {}\n",
    "        for l in indices:\n",
    "            key = str(str_to_MinHash(srec.lower(), q, l))\n",
    "            d = dictB[l]\n",
    "            if key in d:\n",
    "                ids = d[key]\n",
    "                for id in ids:\n",
    "                    if id in temp:\n",
    "                        temp[id] += 1\n",
    "                        if temp[id] / L1 >= t:\n",
    "                            matchingPairs[id] = 1\n",
    "                    else:\n",
    "                        temp[id] = 1\n",
    "        for id in matchingPairs.keys():\n",
    "            idDBLP = id\n",
    "            pairsNo += 1\n",
    "            if idDBLP in truthD:\n",
    "                ids = truthD[idDBLP]\n",
    "                for id in ids:\n",
    "                    if id == idScholar:\n",
    "                        tp += 1\n",
    "                        break\n",
    "            else:\n",
    "                fp += 1\n",
    "    return False\n",
    "\n",
    "def elimina_elementos_dentro_dictB(array_para_descarte, array_para_descarte_igual):\n",
    "    array_para_descarte.clear()\n",
    "    array_para_descarte_igual.clear()"
   ]
  },
  {
   "cell_type": "code",
   "execution_count": 4,
   "id": "b20caa5f",
   "metadata": {},
   "outputs": [
    {
     "name": "stdout",
     "output_type": "stream",
     "text": [
      "L= 116 L1= 50\n"
     ]
    }
   ],
   "source": [
    "df1 = pd.read_csv(\"../00-datasets/DBLP.csv\", sep=\",\", encoding=\"utf-8\", keep_default_na=False)\n",
    "df2 = pd.read_csv(\"../00-datasets/Scholar.csv\", sep=\",\", encoding=\"utf-8\", keep_default_na=False)\n",
    "truth = pd.read_csv(\"../00-datasets/truth.csv\", sep=\",\", encoding=\"utf-8\", keep_default_na=False)\n",
    "truthD = dict()\n",
    "for i, r in truth.iterrows():\n",
    "    idDBLP = r[\"idDBLP\"]\n",
    "    idScholar = r[\"idScholar\"]\n",
    "    if idDBLP in truthD:\n",
    "        ids = truthD[idDBLP]\n",
    "        ids.append(idScholar)\n",
    "    else:\n",
    "        truthD[idDBLP] = [idScholar]\n",
    "\n",
    "t = 0.5\n",
    "TP = 5347\n",
    "eps = 0.1\n",
    "w = 1000\n",
    "delta = 0.1\n",
    "L = math.ceil(math.log(1 / delta) / (2 * (eps ** 2)))\n",
    "eps = 0.01\n",
    "L1 = int(1 / (2 * eps))\n",
    "print(\"L=\", L, \"L1=\", L1)\n",
    "q = 2"
   ]
  },
  {
   "cell_type": "code",
   "execution_count": 4,
   "id": "0b3d9bae",
   "metadata": {},
   "outputs": [
    {
     "name": "stdout",
     "output_type": "stream",
     "text": [
      "blocking time (in mins) 0.10212192535400391\n",
      "matching time (in mins) 2.6676968614260357\n",
      "TP= 4689 Recall= 0.8769403403777819 Precision= 0.8931428571428571 pairsNo= 16359\n"
     ]
    }
   ],
   "source": [
    "dictB = [dict() for l in range(L)]\n",
    "dictB_igual = [dict() for l in range(L)]\n",
    "lista_negra_indices = []\n",
    "tp = 0\n",
    "fp = 0\n",
    "pairsNo = 0\n",
    "nbS = 1\n",
    "naS = 1\n",
    "offsetA = 50\n",
    "offsetB = 50\n",
    "blockingTime = 0\n",
    "matchingTime = 0\n",
    "\n",
    "tempoQueFoiInseridoNaEstrutura = 0 # esse é o valor que sera colocado junto com o id, seria a posiçaõ do elemento no array\n",
    "\n",
    "tamanhoDosBlocos = {}\n",
    "\n",
    "total_entidades = 0\n",
    "\n",
    "while True:\n",
    "    st = time.time()\n",
    "    for index1 in range(naS, naS + offsetA):\n",
    "        if index1 >= len(df1):\n",
    "            break\n",
    "        rr = df1.iloc[index1, 0:5]\n",
    "        idDBLP = rr[\"id\"]\n",
    "        title = rr[\"title\"]\n",
    "        authors = rr[\"authors\"]\n",
    "\n",
    "        srec = title + \" \" + authors\n",
    "        key = \"\"\n",
    "        \n",
    "        for l in range(L):\n",
    "            key = str(str_to_MinHash(srec.lower(), 2, l))\n",
    "            d = dictB[l]\n",
    "            d_igual = dictB_igual[l]\n",
    "            if key in d:\n",
    "                \n",
    "                ids = d[key]\n",
    "                ids_igual = d_igual[key]\n",
    "                tamanho_atual = tamanhoDosBlocos[(key, l)]\n",
    "\n",
    "                if len(ids) < tamanho_atual:\n",
    "                    ids.append(idDBLP)\n",
    "                    ids_igual.append(tempoQueFoiInseridoNaEstrutura)\n",
    "                else:\n",
    "                    elimina_elementos_dentro_dictB(ids, ids_igual)\n",
    "                    lista_negra_indices.append((key, l))\n",
    "                    ids.append(idDBLP)\n",
    "                    ids_igual.append(tempoQueFoiInseridoNaEstrutura)\n",
    "            else:\n",
    "                d[key] = [idDBLP]\n",
    "                d_igual[key] = [tempoQueFoiInseridoNaEstrutura]\n",
    "\n",
    "                tamanhoDosBlocos[(key, l)] = w\n",
    "            \n",
    "        tempoQueFoiInseridoNaEstrutura += 1\n",
    "\n",
    "    end = time.time()\n",
    "\n",
    "    blockingTime += (end - st)\n",
    "    st = time.time()\n",
    "    termination = matching()  \n",
    "    end = time.time()\n",
    "    matchingTime += (end - st)\n",
    "    if termination:\n",
    "            break\n",
    "\n",
    "    nbS += offsetB\n",
    "    naS += offsetA\n",
    "\n",
    "print(\"blocking time (in mins)\", blockingTime / 60)\n",
    "print(\"matching time (in mins)\", matchingTime / 60)\n",
    "if tp + fp > 0:\n",
    "    print(\"TP=\", tp, \"Recall=\", tp / TP, \"Precision=\", tp / (tp + fp), \"pairsNo=\", pairsNo)"
   ]
  },
  {
   "cell_type": "code",
   "execution_count": 5,
   "id": "e583a44d",
   "metadata": {},
   "outputs": [
    {
     "data": {
      "text/plain": [
       "[('-2134634563', 115),\n",
       " ('-2121486483', 51),\n",
       " ('-2117574201', 49),\n",
       " ('-2136502599', 52),\n",
       " ('-2119024346', 56),\n",
       " ('-2133219679', 61),\n",
       " ('-2140351595', 20),\n",
       " ('-2144211646', 28),\n",
       " ('-2130995657', 100),\n",
       " ('-2141728181', 92),\n",
       " ('-2114357705', 83),\n",
       " ('-2136333345', 31),\n",
       " ('-2125379584', 96),\n",
       " ('-2120775340', 97),\n",
       " ('-2117355711', 91),\n",
       " ('-2139009139', 79),\n",
       " ('-2131355824', 67),\n",
       " ('-2131535071', 111),\n",
       " ('-2119150852', 69),\n",
       " ('-2131311958', 23),\n",
       " ('-2081592454', 44),\n",
       " ('-2114732221', 2),\n",
       " ('-2114644781', 81),\n",
       " ('-2066185946', 27),\n",
       " ('-2100239359', 0),\n",
       " ('-2136798172', 104),\n",
       " ('-2134621597', 78),\n",
       " ('-2130282845', 105),\n",
       " ('-2146651954', 3),\n",
       " ('-2121723674', 66),\n",
       " ('-2129781629', 57),\n",
       " ('-2093020375', 64),\n",
       " ('-2113456823', 11),\n",
       " ('-2142803252', 103),\n",
       " ('-2127222156', 43),\n",
       " ('-2070167981', 21),\n",
       " ('-2122007354', 15),\n",
       " ('-2138328710', 33),\n",
       " ('-2133641798', 1)]"
      ]
     },
     "execution_count": 5,
     "metadata": {},
     "output_type": "execute_result"
    }
   ],
   "source": [
    "lista_negra_indices"
   ]
  },
  {
   "cell_type": "markdown",
   "id": "0445d953",
   "metadata": {},
   "source": [
    "## Teste com lista negra"
   ]
  },
  {
   "cell_type": "code",
   "execution_count": null,
   "id": "96308dba",
   "metadata": {},
   "outputs": [
    {
     "name": "stdout",
     "output_type": "stream",
     "text": [
      "blocking time (in mins) 0.09209954738616943\n",
      "matching time (in mins) 2.433525482813517\n",
      "TP= 4671 Recall= 0.8735739667103049 Precision= 0.8844915735656126 pairsNo= 16090\n"
     ]
    }
   ],
   "source": [
    "dictB = [dict() for l in range(L)]\n",
    "dictB_igual = [dict() for l in range(L)]\n",
    "lista_negra_indices = []\n",
    "tp = 0\n",
    "fp = 0\n",
    "pairsNo = 0\n",
    "nbS = 1\n",
    "naS = 1\n",
    "offsetA = 50\n",
    "offsetB = 50\n",
    "blockingTime = 0\n",
    "matchingTime = 0\n",
    "\n",
    "tempoQueFoiInseridoNaEstrutura = 0 # esse é o valor que sera colocado junto com o id, seria a posiçaõ do elemento no array\n",
    "\n",
    "tamanhoDosBlocos = {}\n",
    "\n",
    "total_entidades = 0\n",
    "\n",
    "while True:\n",
    "    st = time.time()\n",
    "    for index1 in range(naS, naS + offsetA):\n",
    "        if index1 >= len(df1):\n",
    "            break\n",
    "        rr = df1.iloc[index1, 0:5]\n",
    "        idDBLP = rr[\"id\"]\n",
    "        title = rr[\"title\"]\n",
    "        authors = rr[\"authors\"]\n",
    "\n",
    "        srec = title + \" \" + authors\n",
    "        key = \"\"\n",
    "        \n",
    "        for l in range(L):\n",
    "            key = str(str_to_MinHash(srec.lower(), 2, l))\n",
    "            d = dictB[l]\n",
    "            d_igual = dictB_igual[l]\n",
    "            if key in d:\n",
    "                \n",
    "                ids = d[key]\n",
    "                ids_igual = d_igual[key]\n",
    "                tamanho_atual = tamanhoDosBlocos[(key, l)]\n",
    "\n",
    "                if len(ids) < tamanho_atual:\n",
    "                    ids.append(idDBLP)\n",
    "                    ids_igual.append(tempoQueFoiInseridoNaEstrutura)\n",
    "                else:\n",
    "                    elimina_elementos_dentro_dictB(ids, ids_igual)\n",
    "                    lista_negra_indices.append((key, l))\n",
    "\n",
    "                    # ids.append(idDBLP)\n",
    "                    # ids_igual.append(tempoQueFoiInseridoNaEstrutura)\n",
    "            else:\n",
    "                if (key, l) not in lista_negra_indices:                        \n",
    "                    d[key] = [idDBLP]\n",
    "                    d_igual[key] = [tempoQueFoiInseridoNaEstrutura]\n",
    "\n",
    "                    tamanhoDosBlocos[(key, l)] = w\n",
    "                else:\n",
    "                    print(\"ignoring\", key, l)\n",
    "        tempoQueFoiInseridoNaEstrutura += 1\n",
    "\n",
    "    end = time.time()\n",
    "\n",
    "    blockingTime += (end - st)\n",
    "    st = time.time()\n",
    "    termination = matching()  \n",
    "    end = time.time()\n",
    "    matchingTime += (end - st)\n",
    "    if termination:\n",
    "            break\n",
    "\n",
    "    nbS += offsetB\n",
    "    naS += offsetA\n",
    "\n",
    "print(\"blocking time (in mins)\", blockingTime / 60)\n",
    "print(\"matching time (in mins)\", matchingTime / 60)\n",
    "if tp + fp > 0:\n",
    "    print(\"TP=\", tp, \"Recall=\", tp / TP, \"Precision=\", tp / (tp + fp), \"pairsNo=\", pairsNo)"
   ]
  },
  {
   "cell_type": "code",
   "execution_count": 10,
   "id": "f6e73124",
   "metadata": {},
   "outputs": [
    {
     "data": {
      "text/plain": [
       "[('-2134634563', 115),\n",
       " ('-2121486483', 51),\n",
       " ('-2117574201', 49),\n",
       " ('-2136502599', 52),\n",
       " ('-2119024346', 56),\n",
       " ('-2133219679', 61),\n",
       " ('-2140351595', 20),\n",
       " ('-2144211646', 28),\n",
       " ('-2130995657', 100),\n",
       " ('-2141728181', 92),\n",
       " ('-2114357705', 83),\n",
       " ('-2136333345', 31),\n",
       " ('-2125379584', 96),\n",
       " ('-2120775340', 97),\n",
       " ('-2117355711', 91),\n",
       " ('-2139009139', 79),\n",
       " ('-2131355824', 67),\n",
       " ('-2131535071', 111),\n",
       " ('-2119150852', 69),\n",
       " ('-2131311958', 23),\n",
       " ('-2081592454', 44),\n",
       " ('-2114732221', 2),\n",
       " ('-2114644781', 81),\n",
       " ('-2066185946', 27),\n",
       " ('-2100239359', 0),\n",
       " ('-2136798172', 104),\n",
       " ('-2134621597', 78),\n",
       " ('-2130282845', 105),\n",
       " ('-2146651954', 3),\n",
       " ('-2121723674', 66),\n",
       " ('-2129781629', 57),\n",
       " ('-2093020375', 64),\n",
       " ('-2113456823', 11),\n",
       " ('-2142803252', 103),\n",
       " ('-2127222156', 43),\n",
       " ('-2070167981', 21),\n",
       " ('-2122007354', 15),\n",
       " ('-2138328710', 33),\n",
       " ('-2133641798', 1)]"
      ]
     },
     "execution_count": 10,
     "metadata": {},
     "output_type": "execute_result"
    }
   ],
   "source": [
    "lista_negra_indices"
   ]
  },
  {
   "cell_type": "code",
   "execution_count": 14,
   "id": "411907e3",
   "metadata": {},
   "outputs": [
    {
     "data": {
      "text/plain": [
       "(39, 39)"
      ]
     },
     "execution_count": 14,
     "metadata": {},
     "output_type": "execute_result"
    }
   ],
   "source": [
    "teste = [e for e, _ in enumerate(lista_negra_indices)]\n",
    "teste2 = set(teste)\n",
    "len(teste2), len(teste)"
   ]
  },
  {
   "cell_type": "code",
   "execution_count": 15,
   "id": "ae85241c",
   "metadata": {},
   "outputs": [
    {
     "name": "stdout",
     "output_type": "stream",
     "text": [
      "VAMOOO\n"
     ]
    }
   ],
   "source": [
    "if ('-2134634563', 115) in lista_negra_indices:\n",
    "    print(\"VAMOOO\")"
   ]
  },
  {
   "cell_type": "markdown",
   "id": "83745f25",
   "metadata": {},
   "source": [
    "# Apagar estrutura de tempos em tempos"
   ]
  },
  {
   "cell_type": "code",
   "execution_count": 5,
   "id": "d9272ad8",
   "metadata": {},
   "outputs": [],
   "source": [
    "mock_data = {\n",
    "    # ID 1: Artigos de SIGMOD (6 entradas)\n",
    "    '-2053413593': [\n",
    "        'journals/sigmod/EisenbergM02',\n",
    "        'conf/sigmod/HaasNSS95',\n",
    "        'conf/sigmod/HoelS95',\n",
    "        'journals/sigmod/SlivinskasJS02',\n",
    "        'conf/sigmod/WienerN95',\n",
    "        'conf/sigmod/KaushikBNK02'\n",
    "    ],\n",
    "    \n",
    "    # ID 2: VLDB e SIGMOD (4 entradas)\n",
    "    '-1844936030': [\n",
    "        'conf/vldb/HungYK96',\n",
    "        'journals/vldb/ClaussenKKW00',\n",
    "        'conf/sigmod/GarciaP99',\n",
    "        'journals/vldb/LiT22'\n",
    "    ],\n",
    "    \n",
    "    # ID 3: Workshops (3 entradas)\n",
    "    '-1606265440': [\n",
    "        'workshops/dbsec/ZhangL19',\n",
    "        'workshops/clouddb/ChenR21',\n",
    "        'conf/icde/workshops/WangX23'\n",
    "    ],\n",
    "    \n",
    "    # ID 4: Artigos recentes (2 entradas)\n",
    "    '-1834122268': [\n",
    "        'conf/cidr/WangC23',\n",
    "        'journals/pvldb/LeeM22'\n",
    "    ],\n",
    "    \n",
    "    # ID 5: Keynotes (1 entrada)\n",
    "    '-1881148935': [\n",
    "        'conf/vldb/keynotes/Uhl22'\n",
    "    ],\n",
    "    \n",
    "    # ID 6: Artigos clássicos (3 entradas)\n",
    "    '-2009778662': [\n",
    "        'journals/vldb/OzsuPSILM95',\n",
    "        'conf/pods/AbiteboulH95',\n",
    "        'journals/tods/Gray78'\n",
    "    ],\n",
    "    \n",
    "    # ID 7: Machine Learning em BD (2 entradas)\n",
    "    '-1999999999': [\n",
    "        'conf/sigmod/KumarML21',\n",
    "        'journals/pvldb/RatanM22'\n",
    "    ],\n",
    "    \n",
    "    # ID 8: Bancos de Dados Não-Relacionais (3 entradas)\n",
    "    '-1111111111': [\n",
    "        'conf/nosql/BrownN20',\n",
    "        'journals/nosql/WhiteD21',\n",
    "        'conf/icde/NoSQL/ClarkP22'\n",
    "    ]\n",
    "}\n",
    "\n",
    "# DictBzinho com 2 posições PREENCHIDAS (sem dicionários vazios)\n",
    "dictBzinho = [\n",
    "    # Primeiro dicionário em dictBzinho (Tema: Otimização de Consultas)\n",
    "    {\n",
    "        '-555555555': [\n",
    "            'conf/sigmod/StonebrakerR00',\n",
    "            'journals/vldb/Chaudhuri98',\n",
    "            'conf/icde/Graefe93'\n",
    "        ],\n",
    "        '-666666666': [\n",
    "            'workshops/query_opt/ZhouK21',\n",
    "            'conf/pods/GarciaMolina02'\n",
    "        ]\n",
    "    },\n",
    "    \n",
    "    # Segundo dicionário em dictBzinho (Tema: Bancos de Dados Distribuídos)\n",
    "    {\n",
    "        '-777777777': [\n",
    "            'journals/distributed/Bernstein87',\n",
    "            'conf/vldb/ÖzsuT19'\n",
    "        ],\n",
    "        '-888888888': [\n",
    "            'conf/icdcn/DistributedDB/LiH23',\n",
    "            'journals/pvldb/KemmeA22',\n",
    "            'conf/sigmod/Distributed/ShahP21'\n",
    "        ]\n",
    "    }\n",
    "]\n",
    "\n",
    "# Estrutura final combinada\n",
    "final_structure = [mock_data] + dictBzinho\n",
    "\n",
    "mock_data1 = {\n",
    "    # ID 1: Artigos de SIGMOD (6 números ordenados)\n",
    "    '-2053413593': [5, 7, 12, 23, 34, 41],\n",
    "    \n",
    "    # ID 2: VLDB e SIGMOD (4 números ordenados)\n",
    "    '-1844936030': [3, 18, 29, 45],\n",
    "    \n",
    "    # ID 3: Workshops (3 números ordenados)\n",
    "    '-1606265440': [9, 14, 27],\n",
    "    \n",
    "    # ID 4: Artigos recentes (2 números ordenados)\n",
    "    '-1834122268': [21, 33],\n",
    "    \n",
    "    # ID 5: Keynotes (1 número)\n",
    "    '-1881148935': [2],\n",
    "    \n",
    "    # ID 6: Artigos clássicos (3 números ordenados)\n",
    "    '-2009778662': [8, 15, 37],\n",
    "    \n",
    "    # ID 7: Machine Learning em BD (2 números ordenados)\n",
    "    '-1999999999': [19, 46],\n",
    "    \n",
    "    # ID 8: Bancos de Dados Não-Relacionais (3 números ordenados)\n",
    "    '-1111111111': [11, 30, 48]\n",
    "}\n",
    "\n",
    "# DictBzinho com 2 posições PREENCHIDAS com números ordenados\n",
    "dictBzinho1 = [\n",
    "    # Primeiro dicionário (Tema: Otimização de Consultas)\n",
    "    {\n",
    "        '-555555555': [4, 22, 39],\n",
    "        '-666666666': [16, 50]\n",
    "    },\n",
    "    \n",
    "    # Segundo dicionário (Tema: Bancos de Dados Distribuídos)\n",
    "    {\n",
    "        '-777777777': [1, 25],\n",
    "        '-888888888': [10, 31, 42]\n",
    "    }\n",
    "]\n",
    "\n",
    "# Estrutura final combinada\n",
    "final_structure1 = [mock_data1] + dictBzinho1"
   ]
  },
  {
   "cell_type": "code",
   "execution_count": 8,
   "id": "d6540c28",
   "metadata": {},
   "outputs": [
    {
     "data": {
      "text/plain": [
       "[{'-2053413593': ['journals/sigmod/EisenbergM02',\n",
       "   'conf/sigmod/HaasNSS95',\n",
       "   'conf/sigmod/HoelS95',\n",
       "   'journals/sigmod/SlivinskasJS02',\n",
       "   'conf/sigmod/WienerN95',\n",
       "   'conf/sigmod/KaushikBNK02'],\n",
       "  '-1844936030': ['conf/vldb/HungYK96',\n",
       "   'journals/vldb/ClaussenKKW00',\n",
       "   'conf/sigmod/GarciaP99',\n",
       "   'journals/vldb/LiT22'],\n",
       "  '-1606265440': ['workshops/dbsec/ZhangL19',\n",
       "   'workshops/clouddb/ChenR21',\n",
       "   'conf/icde/workshops/WangX23'],\n",
       "  '-1834122268': ['conf/cidr/WangC23', 'journals/pvldb/LeeM22'],\n",
       "  '-1881148935': ['conf/vldb/keynotes/Uhl22'],\n",
       "  '-2009778662': ['journals/vldb/OzsuPSILM95',\n",
       "   'conf/pods/AbiteboulH95',\n",
       "   'journals/tods/Gray78'],\n",
       "  '-1999999999': ['conf/sigmod/KumarML21', 'journals/pvldb/RatanM22'],\n",
       "  '-1111111111': ['conf/nosql/BrownN20',\n",
       "   'journals/nosql/WhiteD21',\n",
       "   'conf/icde/NoSQL/ClarkP22']},\n",
       " {'-555555555': ['conf/sigmod/StonebrakerR00',\n",
       "   'journals/vldb/Chaudhuri98',\n",
       "   'conf/icde/Graefe93'],\n",
       "  '-666666666': ['workshops/query_opt/ZhouK21', 'conf/pods/GarciaMolina02']},\n",
       " {'-777777777': ['conf/vldb/ÖzsuT19'],\n",
       "  '-888888888': ['conf/icdcn/DistributedDB/LiH23',\n",
       "   'journals/pvldb/KemmeA22',\n",
       "   'conf/sigmod/Distributed/ShahP21']}]"
      ]
     },
     "execution_count": 8,
     "metadata": {},
     "output_type": "execute_result"
    }
   ],
   "source": [
    "final_structure"
   ]
  },
  {
   "cell_type": "code",
   "execution_count": 7,
   "id": "d1c307b7",
   "metadata": {},
   "outputs": [
    {
     "data": {
      "text/plain": [
       "[{'-2053413593': [5, 7, 12, 23, 34, 41],\n",
       "  '-1844936030': [3, 18, 29, 45],\n",
       "  '-1606265440': [9, 14, 27],\n",
       "  '-1834122268': [21, 33],\n",
       "  '-1881148935': [2],\n",
       "  '-2009778662': [8, 15, 37],\n",
       "  '-1999999999': [19, 46],\n",
       "  '-1111111111': [11, 30, 48]},\n",
       " {'-555555555': [4, 22, 39], '-666666666': [16, 50]},\n",
       " {'-777777777': [25], '-888888888': [10, 31, 42]}]"
      ]
     },
     "execution_count": 7,
     "metadata": {},
     "output_type": "execute_result"
    }
   ],
   "source": [
    "final_structure1"
   ]
  },
  {
   "cell_type": "code",
   "execution_count": 6,
   "id": "b5dd07a3",
   "metadata": {},
   "outputs": [
    {
     "name": "stdout",
     "output_type": "stream",
     "text": [
      "tem que deletar até o índice 1 (valores menores que 2), no ['journals/distributed/Bernstein87', 'conf/vldb/ÖzsuT19']\n"
     ]
    }
   ],
   "source": [
    "def elimina_entidades_antigas_global(final_structure, final_structure1, tempoQueFoiInseridoNaEstrutura):\n",
    "    for indice in range(len(final_structure)):\n",
    "        # print(dictB[indice])\n",
    "        bloco_unico = final_structure[indice]\n",
    "        for key, array in bloco_unico.items():\n",
    "            # print(f\"key {key} e o array é {array}\")\n",
    "            # print(f\"final_structure1 {final_structure1[indice][key]}\")\n",
    "            tempos = final_structure1[indice][key]            \n",
    "            idx = 0\n",
    "            while idx < len(tempos) and tempos[idx] < tempoQueFoiInseridoNaEstrutura:\n",
    "                idx += 1\n",
    "            if idx > 0:\n",
    "                print(f\"tem que deletar até o índice {idx} (valores menores que {tempoQueFoiInseridoNaEstrutura}), no\", final_structure[indice][key])\n",
    "                del final_structure[indice][key][:idx]\n",
    "                del final_structure1[indice][key][:idx]\n",
    "\n",
    "elimina_entidades_antigas_global(final_structure, final_structure1, 2)"
   ]
  },
  {
   "cell_type": "code",
   "execution_count": null,
   "id": "2393ba3d",
   "metadata": {},
   "outputs": [],
   "source": [
    "def elimina_entidades_antigas_global(final_structure, final_structure1, tempoQueFoiInseridoNaEstrutura, indice_atualllll):\n",
    "    # print(\"entrou aqui\")\n",
    "    for indice in range(len(final_structure1)):\n",
    "        # print(dictB[indice])\n",
    "        bloco_unico = final_structure1[indice]\n",
    "        for key, array in bloco_unico.items():\n",
    "            # print(f\"dictB_igual {dictB_igual[indice][key]}\")\n",
    "            tempos = final_structure1[indice][key]  \n",
    "\n",
    "            idx = 0\n",
    "            # print(tempoQueFoiInseridoNaEstrutura)\n",
    "            while idx < len(tempos) and tempos[idx] < tempoQueFoiInseridoNaEstrutura:\n",
    "                idx += 1\n",
    "                # print(\"passou aqui\")\n",
    "            if idx > 0:\n",
    "                # print(\"\\n\")\n",
    "                # print(f\"indice_atualllll {indice_atualllll}\")\n",
    "                # print(tempoQueFoiInseridoNaEstrutura)\n",
    "                # print(\"Antes de deletar\", final_structure1[indice][key])\n",
    "                # print(f\"tem que deletar até o índice {idx} (valores menores que {tempoQueFoiInseridoNaEstrutura}), no\", final_structure[indice][key])\n",
    "                del final_structure[indice][key][:idx]\n",
    "                del final_structure1[indice][key][:idx]\n",
    "                # print(\"depois de deletar\", final_structure1[indice][key])\n"
   ]
  },
  {
   "cell_type": "code",
   "execution_count": 10,
   "id": "88b44001",
   "metadata": {},
   "outputs": [],
   "source": [
    "elimina_entidades_antigas_global(final_structure, final_structure1, 2, 1)"
   ]
  },
  {
   "cell_type": "code",
   "execution_count": 61,
   "id": "6c95aec2",
   "metadata": {},
   "outputs": [],
   "source": [
    "def elimina_entidades_antigas_global(dictB, dictB_igual, tempoQueFoiInseridoNaEstrutura, indice_atualllll):\n",
    "    # print(\"entrou aqui\")\n",
    "    for indice in range(len(dictB_igual)):\n",
    "        # print(dictB[indice])\n",
    "        bloco_unico = dictB_igual[indice]\n",
    "        for key, array in bloco_unico.items():\n",
    "            # print(f\"dictB_igual {dictB_igual[indice][key]}\")\n",
    "            tempos = dictB_igual[indice][key]  \n",
    "                 \n",
    "            idx = 0\n",
    "            # print(tempoQueFoiInseridoNaEstrutura)\n",
    "            while idx < len(tempos) and tempos[idx] < tempoQueFoiInseridoNaEstrutura:\n",
    "                idx += 1\n",
    "                # print(\"passou aqui\")\n",
    "            if idx > 0:\n",
    "                # print(\"\\n\")\n",
    "                # print(f\"indice_atualllll {indice_atualllll}\")\n",
    "                # print(tempoQueFoiInseridoNaEstrutura)\n",
    "                # print(\"Antes de deletar\", dictB_igual[indice][key])\n",
    "                # print(f\"tem que deletar até o índice {idx} (valores menores que {tempoQueFoiInseridoNaEstrutura}), no\", dictB[indice][key])\n",
    "                del dictB[indice][key][:idx]\n",
    "                del dictB_igual[indice][key][:idx]\n",
    "                # print(\"depois de deletar\", dictB_igual[indice][key])\n"
   ]
  },
  {
   "cell_type": "code",
   "execution_count": null,
   "id": "ed345064",
   "metadata": {},
   "outputs": [],
   "source": [
    "def elimina_entidades_antigas_global_ttttttt(dictB, dictB_igual, total_entidades, ciclo_atual):\n",
    "    # Calcula quantas entidades devem ser removidas (20% das adicionadas no ciclo)\n",
    "    entidades_para_remover = max(100, total_entidades // 5)  # Pelo menos 100 ou 20% do total\n",
    "    \n",
    "    for indice in range(len(dictB_igual)):\n",
    "        bloco_unico = dictB_igual[indice]\n",
    "        for key, array in bloco_unico.items():\n",
    "            tempos = dictB_igual[indice][key]\n",
    "            # Ordena os tempos se necessário (assumindo que já estão ordenados por inserção)\n",
    "            # Remove as entidades mais antigas (primeiras da lista)\n",
    "            if len(tempos) > entidades_para_remover:\n",
    "                del dictB[indice][key][:entidades_para_remover]\n",
    "                del dictB_igual[indice][key][:entidades_para_remover]\n",
    "            else:\n",
    "                # Se o bloco tem menos entidades que o necessário para remover, remove tudo\n",
    "                dictB[indice].pop(key, None)\n",
    "                dictB_igual[indice].pop(key, None)"
   ]
  },
  {
   "cell_type": "code",
   "execution_count": null,
   "id": "3c726d22",
   "metadata": {},
   "outputs": [
    {
     "name": "stdout",
     "output_type": "stream",
     "text": [
      "100\n",
      "200\n",
      "300\n",
      "400\n",
      "500\n",
      "blocking time (in mins) 0.10256336530049642\n",
      "matching time (in mins) 2.622007199128469\n",
      "TP= 4170 Recall= 0.7798765662988592 Precision= 0.8252523253512765 pairsNo= 25817\n"
     ]
    }
   ],
   "source": [
    "dictB = [dict() for l in range(L)]\n",
    "dictB_igual = [dict() for l in range(L)]\n",
    "\n",
    "tp = 0\n",
    "fp = 0\n",
    "pairsNo = 0\n",
    "nbS = 1\n",
    "naS = 1\n",
    "offsetA = 50\n",
    "offsetB = 50\n",
    "blockingTime = 0\n",
    "matchingTime = 0\n",
    "\n",
    "tempoQueFoiInseridoNaEstrutura = 0 # esse é o valor que sera colocado junto com o id, seria a posiçaõ do elemento no array\n",
    "\n",
    "tamanhoDosBlocos = {}\n",
    "\n",
    "total_entidades = 0\n",
    "indice_atualllll = 0\n",
    "while True:\n",
    "    st = time.time()\n",
    "    for index1 in range(naS, naS + offsetA):\n",
    "        if index1 >= len(df1):\n",
    "            break\n",
    "        rr = df1.iloc[index1, 0:5]\n",
    "        idDBLP = rr[\"id\"]\n",
    "        title = rr[\"title\"]\n",
    "        authors = rr[\"authors\"]\n",
    "\n",
    "        srec = title + \" \" + authors\n",
    "        key = \"\"\n",
    "        \n",
    "        for l in range(L):\n",
    "            key = str(str_to_MinHash(srec.lower(), 2, l))\n",
    "            d = dictB[l]\n",
    "            d_igual = dictB_igual[l]\n",
    "            if key in d:\n",
    "                \n",
    "                ids = d[key]\n",
    "                ids_igual = d_igual[key]\n",
    "                tamanho_atual = tamanhoDosBlocos[(key, l)]\n",
    "\n",
    "                if len(ids) < tamanho_atual:\n",
    "                    ids.append(idDBLP)\n",
    "                    ids_igual.append(tempoQueFoiInseridoNaEstrutura)\n",
    "                else:\n",
    "                    elimina_elementos_dentro_dictB(ids, ids_igual)\n",
    "                    ids.append(idDBLP)\n",
    "                    ids_igual.append(tempoQueFoiInseridoNaEstrutura)\n",
    "            else:\n",
    "                d[key] = [idDBLP]\n",
    "                d_igual[key] = [tempoQueFoiInseridoNaEstrutura]\n",
    "\n",
    "                tamanhoDosBlocos[(key, l)] = w\n",
    "        \n",
    "        tempoQueFoiInseridoNaEstrutura += 1\n",
    "        # A cada 1000 inserções, remove entidades antigas para economizar memória\n",
    "        if tempoQueFoiInseridoNaEstrutura % 500 == 0:\n",
    "            indice_atualllll += 1\n",
    "            # Define um limite de \"idade\" para entidades antigas (por exemplo, 900 atrás)\n",
    "            limite_idade = 100 * indice_atualllll  # Aumenta o limite de idade a cada iteração\n",
    "            print(limite_idade)\n",
    "            # ver_passado = tempoQueFoiInseridoNaEstrutura - limite_idade\n",
    "            # tempo_limite = ver_passado if ver_passado > 0 else 0\n",
    "            elimina_entidades_antigas_global_ttttttt(dictB, dictB_igual, limite_idade, indice_atualllll)\n",
    "    end = time.time()\n",
    "\n",
    "    blockingTime += (end - st)\n",
    "    st = time.time()\n",
    "    termination = matching()  \n",
    "    end = time.time()\n",
    "    matchingTime += (end - st)\n",
    "    if termination:\n",
    "            break\n",
    "\n",
    "    nbS += offsetB\n",
    "    naS += offsetA\n",
    "\n",
    "print(\"blocking time (in mins)\", blockingTime / 60)\n",
    "print(\"matching time (in mins)\", matchingTime / 60)\n",
    "if tp + fp > 0:\n",
    "    print(\"TP=\", tp, \"Recall=\", tp / TP, \"Precision=\", tp / (tp + fp), \"pairsNo=\", pairsNo)"
   ]
  },
  {
   "cell_type": "code",
   "execution_count": 63,
   "id": "95d9128d",
   "metadata": {},
   "outputs": [
    {
     "data": {
      "text/plain": [
       "2615"
      ]
     },
     "execution_count": 63,
     "metadata": {},
     "output_type": "execute_result"
    }
   ],
   "source": [
    "tempoQueFoiInseridoNaEstrutura"
   ]
  },
  {
   "cell_type": "code",
   "execution_count": null,
   "id": "4e7bb612",
   "metadata": {},
   "outputs": [
    {
     "data": {
      "text/plain": [
       "[{'-2053413593': [5, 7, 12, 23, 34, 41],\n",
       "  '-1844936030': [3, 18, 29, 45],\n",
       "  '-1606265440': [9, 14, 27],\n",
       "  '-1834122268': [21, 33],\n",
       "  '-1881148935': [2],\n",
       "  '-2009778662': [8, 15, 37],\n",
       "  '-1999999999': [19, 46],\n",
       "  '-1111111111': [11, 30, 48]},\n",
       " {'-555555555': [4, 22, 39], '-666666666': [16, 50]},\n",
       " {'-777777777': [25], '-888888888': [10, 31, 42]}]"
      ]
     },
     "execution_count": 21,
     "metadata": {},
     "output_type": "execute_result"
    }
   ],
   "source": [
    "#retira até 1\n",
    "final_structure1"
   ]
  },
  {
   "cell_type": "code",
   "execution_count": null,
   "id": "7cfe8e2d",
   "metadata": {},
   "outputs": [
    {
     "data": {
      "text/plain": [
       "[{'-2053413593': [5, 7, 12, 23, 34, 41],\n",
       "  '-1844936030': [3, 18, 29, 45],\n",
       "  '-1606265440': [9, 14, 27],\n",
       "  '-1834122268': [21, 33],\n",
       "  '-1881148935': [2],\n",
       "  '-2009778662': [8, 15, 37],\n",
       "  '-1999999999': [19, 46],\n",
       "  '-1111111111': [11, 30, 48]},\n",
       " {'-555555555': [4, 22, 39], '-666666666': [16, 50]},\n",
       " {'-777777777': [1, 25], '-888888888': [10, 31, 42]}]"
      ]
     },
     "execution_count": 110,
     "metadata": {},
     "output_type": "execute_result"
    }
   ],
   "source": [
    "#retira até 0\n",
    "final_structure1"
   ]
  },
  {
   "cell_type": "code",
   "execution_count": null,
   "id": "4e86d942",
   "metadata": {},
   "outputs": [
    {
     "data": {
      "text/plain": [
       "[{'-2053413593': [12, 23, 34, 41],\n",
       "  '-1844936030': [18, 29, 45],\n",
       "  '-1606265440': [14, 27],\n",
       "  '-1834122268': [21, 33],\n",
       "  '-1881148935': [],\n",
       "  '-2009778662': [15, 37],\n",
       "  '-1999999999': [19, 46],\n",
       "  '-1111111111': [11, 30, 48]},\n",
       " {'-555555555': [22, 39], '-666666666': [16, 50]},\n",
       " {'-777777777': [25], '-888888888': [10, 31, 42]}]"
      ]
     },
     "execution_count": 106,
     "metadata": {},
     "output_type": "execute_result"
    }
   ],
   "source": [
    "#Retirar até 10\n",
    "final_structure1"
   ]
  },
  {
   "cell_type": "code",
   "execution_count": null,
   "id": "d1558faf",
   "metadata": {},
   "outputs": [
    {
     "data": {
      "text/plain": [
       "[{'-2053413593': [41],\n",
       "  '-1844936030': [45],\n",
       "  '-1606265440': [],\n",
       "  '-1834122268': [],\n",
       "  '-1881148935': [],\n",
       "  '-2009778662': [37],\n",
       "  '-1999999999': [46],\n",
       "  '-1111111111': [48]},\n",
       " {'-555555555': [39], '-666666666': [50]},\n",
       " {'-777777777': [], '-888888888': [42]}]"
      ]
     },
     "execution_count": 103,
     "metadata": {},
     "output_type": "execute_result"
    }
   ],
   "source": [
    "# retirar até 35\n",
    "final_structure1"
   ]
  }
 ],
 "metadata": {
  "kernelspec": {
   "display_name": "myenv-mestrado",
   "language": "python",
   "name": "python3"
  },
  "language_info": {
   "codemirror_mode": {
    "name": "ipython",
    "version": 3
   },
   "file_extension": ".py",
   "mimetype": "text/x-python",
   "name": "python",
   "nbconvert_exporter": "python",
   "pygments_lexer": "ipython3",
   "version": "3.11.5"
  }
 },
 "nbformat": 4,
 "nbformat_minor": 5
}
